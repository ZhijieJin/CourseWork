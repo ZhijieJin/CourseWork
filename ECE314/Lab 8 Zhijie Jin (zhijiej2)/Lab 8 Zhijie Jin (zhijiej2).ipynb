{
 "cells": [
  {
   "cell_type": "markdown",
   "metadata": {},
   "source": [
    "# Lab 8: Applications of Markov chains and graphs"
   ]
  },
  {
   "cell_type": "markdown",
   "metadata": {},
   "source": [
    "In this lab we will be looking at some applications of Markov chains and graphs, namely, the page rank algorithm, an introduction to statistical inference with a Markov model, and cache replacement policies.\n",
    "\n",
    "Below is the code to import the modules we will be using throughout this lab."
   ]
  },
  {
   "cell_type": "code",
   "execution_count": 39,
   "metadata": {
    "collapsed": false
   },
   "outputs": [
    {
     "name": "stdout",
     "output_type": "stream",
     "text": [
      "Modules Imported!\n",
      "Markov_chain class defined\n"
     ]
    }
   ],
   "source": [
    "%matplotlib inline\n",
    "import matplotlib.pyplot as plt\n",
    "import numpy as np\n",
    "import scipy as sp\n",
    "import scipy.stats as st\n",
    "import csv as csv\n",
    "import networkx as nx\n",
    "import random as random\n",
    "print \"Modules Imported!\"\n",
    "\n",
    "# Markov chain object similar to random variable objects in scipy.stats (st)\n",
    "\n",
    "class Markov_chain:\n",
    "    def __init__(self, P, pi0):   # The transition probability matrix and initial distribution are passed\n",
    "        self.P = P \n",
    "        self.pi0 = pi0\n",
    "        self.n=np.size(pi0)\n",
    "        if np.shape(P) != (self.n,self.n):\n",
    "            print \"Error: Shape of P doesn't match pi0\"\n",
    "   \n",
    "    def rvs(self,T):     # produce a length T segment of variates of the random process\n",
    "        X = [np.random.choice(self.n, p=self.pi0)]  # p is a needed input for np.random.choice()\n",
    "        for t in range(1,T):\n",
    "            X.append(np.random.choice(self.n, p=self.P[X[t-1],:])) \n",
    "        return np.array(X)\n",
    "    \n",
    "    def pi(self,t):    # produce probability distribution at time t\n",
    "        pi_new=self.pi0\n",
    "        for s in range(t):\n",
    "            pi_new = np.dot(pi_new, self.P)    # one step update of probability distribution(dot product)\n",
    "        return pi_new\n",
    "print \"Markov_chain class defined\"\n"
   ]
  },
  {
   "cell_type": "code",
   "execution_count": 2,
   "metadata": {
    "collapsed": false
   },
   "outputs": [
    {
     "name": "stdout",
     "output_type": "stream",
     "text": [
      "3\n",
      "2\n",
      "2\n",
      "2\n",
      "2\n"
     ]
    }
   ],
   "source": [
    "n = 5\n",
    "p = [0.1, 0.2, 0.3, 0.2, 0.2]\n",
    "for i in range(0, 5):\n",
    "    print np.random.choice(n, p=p)"
   ]
  },
  {
   "cell_type": "markdown",
   "metadata": {},
   "source": [
    "## Page Rank Algorithm"
   ]
  },
  {
   "cell_type": "markdown",
   "metadata": {},
   "source": [
    "Now that we see how to generate, manipulate, and plot graphs, we can investigate Page's ranking algorithm for webpages, which uses a Markov chain based on the graphical structure of the set of web pages on the Internet.  Suppose now that we have a directed graph that represents a set of web pages; a link from one webpage to another designates that the first webpage has a hyperlink to the second webpage.   Then webpages that have more incoming edges should have a higher rank.   If the webpages pointing into a particular webpage have higher ranks, then the ranking of the webpage pointed to should be even higher.    These ideas are encapsulated in the pagerank algorithm, which is based on a Markov chain with the following one-step transition probability matrix:  \n",
    "$p_{i,j} = \\frac{dA_{i,j}}{\\mbox{out_degree}(i)} +  \\frac{1-d}{n}.$  Here $A$ represents the adjacency matrix of the graph, so that $A_{i,j}=1$ if there is an edge from $i$ to $j,$  and $A_{i,j}=0$ otherwise.\n",
    "Originally Google used $d$=85%. That is, if the current state is $i$, then a biased coin is flipped with heads showing with probability $d.$   If heads shows, then the next state is one of the nodes pointed to by node $i,$  with all choices having equal probability.  If tails shows, the next node is selected at random from among all nodes in the graph, each with equal probability.  There is a slight problem about what to do if a node has outdegree zero because in that case the first term is not well defined; you will be asked to address this problem.\n",
    "\n",
    "The following code generates a random directed graph, and then ranks the popularity of the nodes in the graph using the pagerank method. The code uses the adjacency matrix of the graph, mentioned above. Instead of using the equilibrium distribution for the Markov chain, we use the probability distribution of the chain after 100 time steps.  The row sums of the adjacency matrix give the outdegrees.  One way to think about it is that the Markov chain models a person randomly clicking through webpages.  Pages are ranked according to the probability distribution of which page the person has reached after 100 time steps."
   ]
  },
  {
   "cell_type": "code",
   "execution_count": 57,
   "metadata": {
    "collapsed": false
   },
   "outputs": [
    {
     "name": "stdout",
     "output_type": "stream",
     "text": [
      "[ 1.  1.  1.  1.  1.  1.  1.  1.  1.  1.]\n"
     ]
    },
    {
     "data": {
      "text/plain": [
       "numpy.ndarray"
      ]
     },
     "execution_count": 57,
     "metadata": {},
     "output_type": "execute_result"
    }
   ],
   "source": [
    "x = np.ones(10)\n",
    "print x\n",
    "type(x)"
   ]
  },
  {
   "cell_type": "code",
   "execution_count": 69,
   "metadata": {
    "collapsed": false
   },
   "outputs": [
    {
     "data": {
      "text/plain": [
       "array([ 2.,  4.,  2.,  2.])"
      ]
     },
     "execution_count": 69,
     "metadata": {},
     "output_type": "execute_result"
    }
   ],
   "source": [
    "st.rankdata([2., 3., 2., 2.])"
   ]
  },
  {
   "cell_type": "code",
   "execution_count": 21,
   "metadata": {
    "collapsed": false
   },
   "outputs": [
    {
     "data": {
      "image/png": "[encoded data removed]",
      "text/plain": [
       "<matplotlib.figure.Figure at 0x7fc4fe758190>"
      ]
     },
     "metadata": {},
     "output_type": "display_data"
    },
    {
     "name": "stdout",
     "output_type": "stream",
     "text": [
      "10\n",
      "[ 0.041  0.044  0.079  0.1    0.131  0.166  0.151  0.115  0.1    0.074]\n",
      "rank vector [ 10.   9.   7.   6.   3.   1.   2.   4.   5.   8.]\n",
      "Simulated state sequence:  [3 8 7 7 8 7 7 8 7 6 6 5 6 6 5 4 3 4 5 5 4 4 4 4 4 4 5 6 7 7 7 8 8 5 6 5 0\n",
      " 1 2 0 1 9 8 7 7 8 9 9 1 2 3 2 1 2 6 5 5 5 6 6 5 6 5 5 4 5 5 5 6 7 7 8 0 2\n",
      " 3 4 5 4 5 5 6 5 3 4 3 4 3 2 0 1 2 9 9 8 5 3 4 5 6 7]\n",
      "[-2, -4, -8, -6, -16, -19, -11, -12, -11, -11]\n",
      "[ 10.   9.   7.   8.   2.   1.   5.   3.   5.   5.]\n",
      "[ 0.04094109  0.04410472  0.07862155  0.10005088  0.13062426  0.16624473\n",
      "  0.15061265  0.11460258  0.10021005  0.07398749]\n"
     ]
    }
   ],
   "source": [
    "# A simulation of the pagerank algorithm\n",
    "#import networkx as nx\n",
    "\n",
    "# Create a random directed graph object and plot it:\n",
    "G = nx.scale_free_graph(10, alpha=0.2, beta=0.4, gamma=0.4)   \n",
    "nx.draw(G,with_labels=1)\n",
    "plt.show()\n",
    "\n",
    "A1 = [[  0.,  1.,   0.,   0.,   0.,   0.,   0.,   0.,   0.,   0.],\n",
    "      [  1.,  0.,   1.,   0.,   0.,   0.,   0.,   0.,   0.,   0.],\n",
    "      [  0.,  1.,   0.,   1.,   0.,   0.,   0.,   0.,   0.,   0.],\n",
    "      [  0.,  0.,   1.,   0.,   1.,   0.,   0.,   0.,   0.,   0.],\n",
    "      [  0.,  0.,   0.,   1.,   0.,   1.,   0.,   0.,   0.,   0.],\n",
    "      [  0.,  0.,   0.,   0.,   1.,   0.,   1.,   0.,   0.,   0.],\n",
    "      [  0.,  0.,   0.,   0.,   0.,   1.,   0.,   1.,   0.,   0.],\n",
    "      [  0.,  0.,   0.,   0.,   0.,   0.,   1.,   0.,   1.,   0.],\n",
    "      [  0.,  0.,   0.,   0.,   0.,   0.,   0.,   1.,   0.,   1.],\n",
    "      [  0.,  0.,   0.,   0.,   0.,   0.,   0.,   0.,   1.,   0.],]\n",
    "\n",
    "# Next we add identity matrix to the adjacency matrix, which\n",
    "# is equivalent to adding a self loop to each node.\n",
    "# This is a way to make the out degree of every node nonzero.\n",
    "# nx returns adjacency matrix in Scipy sparse format; toarray() converts to dense format\n",
    "#n = G.number_of_nodes()\n",
    "print n\n",
    "A = np.array(nx.adjacency_matrix(G).toarray()) + np.identity(n) + A1\n",
    "#print \"Adjacency\", nx.adjacency_matrix(G)\n",
    "#print A #A is the Adjacency matrix\n",
    "\n",
    "                                                       \n",
    "d=0.85    # continuation parameter for pagerank\n",
    " # Next, define transition probability matrix for page rank algoritm\n",
    "P=d*A/A.sum(axis=1)[:,np.newaxis]  + ((1-d)/n)*np.ones((n,n))\n",
    "#print np.round(1000*P)/1000\n",
    "pi0=np.ones((n))/n\n",
    "#print pi0\n",
    "\n",
    "markov=Markov_chain(P, pi0)  # Uses Markov_chain class defined in first code cell above\n",
    "    \n",
    "print np.round(markov.pi(100)*1000)/1000\n",
    "print \"rank vector\", st.rankdata(-markov.pi(100))  # larger probabilities map to smaller numbers\n",
    "print \"Simulated state sequence: \", markov.rvs(100)   # Prints simulation of Markov chain\n",
    "sequences = markov.rvs(100).tolist()\n",
    "type(sequences)\n",
    "rank = []\n",
    "for i in range(0, 10):\n",
    "    rank.append(-sequences.count(i))\n",
    "print rank\n",
    "print st.rankdata(rank)\n",
    "print markov.pi(100)"
   ]
  },
  {
   "cell_type": "code",
   "execution_count": 5,
   "metadata": {
    "collapsed": false
   },
   "outputs": [
    {
     "data": {
      "text/plain": [
       "0.9980000000000001"
      ]
     },
     "execution_count": 5,
     "metadata": {},
     "output_type": "execute_result"
    }
   ],
   "source": [
    "sum([ 0.136,  0.136,  0.136, 0.258,  0.015,  0.015,  0.015,  0.136,  0.136,  0.015])"
   ]
  },
  {
   "cell_type": "markdown",
   "metadata": {},
   "source": [
    "**<SPAN style=\"BACKGROUND-COLOR: #C0C0C0\">Problem 1:</SPAN>** Run the above code and examine the output for a few graphs.  The nodes are numbered from 0 to n-1, and the rank vector gives the popularity rank for each node.  For example, the position of the one in the rank vector denotes the most popular node.\n",
    "<ol><li> Qualitatively comment on the graphs. Where does it appear that the most popular nodes are?</li>\n",
    "<li> The above code uses a particular method to deal with nodes that have no neighbors.   Perhaps it is not fair, because it rewards nodes that have no links to other nodes.   Propose and implement another method for dealing with nodes that have no outgoing links that you think is better.  Explain why you think your method is better.</li>"
   ]
  },
  {
   "cell_type": "markdown",
   "metadata": {
    "collapsed": false
   },
   "source": [
    "#1. With this algrithm, the most popular nodes are always be the nodes that have no outgoing vectors. That means all the popular nodes are the sinks of of vecters appear in the graph. However, this is not ture in realistic. In fact, we need to find nodes than have the most ingoing vecters among all the nodes."
   ]
  },
  {
   "cell_type": "code",
   "execution_count": 45,
   "metadata": {
    "collapsed": false
   },
   "outputs": [
    {
     "name": "stdout",
     "output_type": "stream",
     "text": [
      "#2.\n",
      "For this problem, we want to prevent A.sum(axis=1)[:,np.newaxis] equals 0.\n",
      "The original method is to add an identity matrix to A, but this causes a problem.\n",
      "In the modified version: \n",
      "we want to go to any other websites from the current websites randomly if A.sum equals 0.\n",
      "Therefore, we check the sum of each row of A.\n",
      "If the sum equals 0, we replace elements in the row with 1s. Otherwise, leave it alone.\n",
      "This version of code is more realistic. When we browsing an website without hyperlinks on it,\n",
      "we basically go to any websites avalaible.\n"
     ]
    },
    {
     "data": {
      "image/png": "[encoded data removed]",
      "text/plain": [
       "<matplotlib.figure.Figure at 0x7fc4fe5b7510>"
      ]
     },
     "metadata": {},
     "output_type": "display_data"
    },
    {
     "name": "stdout",
     "output_type": "stream",
     "text": [
      "A before modified:\n",
      "[[0 2 1 0 2 1 1 1 0 0]\n",
      " [1 0 2 0 1 0 0 0 0 0]\n",
      " [1 0 0 0 0 0 0 0 0 0]\n",
      " [0 1 1 0 0 0 0 0 0 0]\n",
      " [0 0 0 0 0 0 0 0 0 0]\n",
      " [0 0 0 0 0 0 0 0 0 0]\n",
      " [0 0 0 0 0 0 0 0 0 0]\n",
      " [0 0 0 0 0 0 0 0 0 0]\n",
      " [0 0 1 0 0 0 0 0 0 0]\n",
      " [0 0 0 0 0 0 1 0 0 0]]\n",
      "A after modified:\n",
      "[[0 2 1 0 2 1 1 1 0 0]\n",
      " [1 0 2 0 1 0 0 0 0 0]\n",
      " [1 0 0 0 0 0 0 0 0 0]\n",
      " [0 1 1 0 0 0 0 0 0 0]\n",
      " [1 1 1 1 1 1 1 1 1 1]\n",
      " [1 1 1 1 1 1 1 1 1 1]\n",
      " [1 1 1 1 1 1 1 1 1 1]\n",
      " [1 1 1 1 1 1 1 1 1 1]\n",
      " [0 0 1 0 0 0 0 0 0 0]\n",
      " [0 0 0 0 0 0 1 0 0 0]]\n",
      "rank vector [ 5.   6.   4.   7.   3.   8.   9.5  9.5  1.   2. ]\n",
      "Simulated state sequences:  [7 7 7 7 2 0 1 2 5 0 9 9 9 9 9 9 9 9 9 9 9 9 9 9 9 9 1 1 0 4 4 4 4 4 4 4 4\n",
      " 4 4 4 4 4 4 4 4 4 4 4 4 4 4 9 9 9 9 9 9 9 9 5 5 5 9 1 8 8 8 8 8 8 8 8 8 8\n",
      " 8 8 8 8 8 8 8 8 8 8 8 8 8 8 8 8 8 8 8 8 2 8 8 8 8 8]\n"
     ]
    }
   ],
   "source": [
    "#2. \n",
    "print \"#2.\"\n",
    "print \"For this problem, we want to prevent A.sum(axis=1)[:,np.newaxis] equals 0.\"\n",
    "print \"The original method is to add an identity matrix to A, but this causes a problem.\"\n",
    "print \"In the modified version: \"\n",
    "print \"we want to go to any other websites from the current websites randomly if A.sum equals 0.\"\n",
    "print \"Therefore, we check the sum of each row of A.\"\n",
    "print \"If the sum equals 0, we replace elements in the row with 1s. Otherwise, leave it alone.\"\n",
    "print \"This version of code is more realistic. When we browsing an website without hyperlinks on it,\"\n",
    "print \"we basically go to any websites avalaible.\"\n",
    "\n",
    "# A simulation of the pagerank algorithm\n",
    "#import networkx as nx\n",
    "\n",
    "\n",
    "# Create a random directed graph object and plot it:\n",
    "G = nx.scale_free_graph(10, alpha=0.2, beta=0.4, gamma=0.4)\n",
    "nx.draw(G,with_labels=1)\n",
    "plt.show()\n",
    "\n",
    "# Next we add indentity matrix to the adjacency matrix, which\n",
    "# is equivalent to adding to self loop to each node.\n",
    "# This is a way to make the out degree of every node nonzero.\n",
    "# nx returns adjacency matrix in Scipy sparse format; toarray() converts to dense format\n",
    "n = G.number_of_nodes()\n",
    "A = np.array(nx.adjacency_matrix(G).toarray())\n",
    "\n",
    "rowSum = A.sum(axis=1)\n",
    "print \"A before modified:\"\n",
    "print A\n",
    "for i in range(0, len(rowSum)):\n",
    "    if rowSum[i] == 0:\n",
    "        A[i] = [1, 1, 1, 1, 1, 1, 1, 1, 1, 1]\n",
    "print \"A after modified:\"\n",
    "print A\n",
    "#for i in range(0, rowSum.size)\n",
    "d =0.85   # continuation parameter for pagerank\n",
    "# Next, define transition probability matrix for page rank algoritm\n",
    "#P = d*A/A.sum(axis=1)[:,np.newaxis] + ((1-d)/n)*np.ones((n,n))\n",
    "pi0 = np.ones((n))/n\n",
    "\n",
    "markov = Markov_chain(P, pi0)\n",
    "print \"rank vector\", st.rankdata(-markov.pi(100)) # larger probabilites map to small numbers\n",
    "print \"Simulated state sequences: \", markov.rvs(100) # Prints simulation of Markov chain\n"
   ]
  },
  {
   "cell_type": "markdown",
   "metadata": {},
   "source": [
    "## Some statistical inference for Markov chains"
   ]
  },
  {
   "cell_type": "markdown",
   "metadata": {},
   "source": [
    "To prepare for statistical inference for Markov chains, we begin by considering the maximum likelihood (ML) estimator for the distribution of a  sequence of independent, identically distributed discrete random variables.   Specifically, suppose p=[p[0], . . . , p[n-1]] is a probability vector for random variables taking values in {0,1, . . . , n-1}.   That is, p[i] is the probability a generated random variable is equal to i.\n",
    "Suppose that you don't know what the vector p is, but you observe a sequence of T independent random variables that were generated using p.  How would you estimate p?   A natural guess is to use p_hat[i]=(number of samples equal to i)/T.   Basically, p_hat is just a normalized histogram of p.  It can be shown that this choice of p_hat is the maximum likelihood (ML) estimator of p.  (The usual proof is to use a Lagrange multiplier for the constraint p[0]+ . . . + p[n-1]=1.)  Try running the following code several times and see how well p_hat approximates p.  If T is increased the estimates become more accurate."
   ]
  },
  {
   "cell_type": "code",
   "execution_count": 12,
   "metadata": {
    "collapsed": false
   },
   "outputs": [
    {
     "name": "stdout",
     "output_type": "stream",
     "text": [
      "[0 1 0 3 2 0 3 0 2 3 1 2 1 3 3 1 1 1 0 0 1 2 2 1 3 2 2 2 2 2 3 3 0 3 0 2 2\n",
      " 0 2 1 0 1 0 3 0 2 1 2 2 2 2 3 3 2 3 2 0 2 1 1 2 3 1 2 0 2 3 0 1 2 2 0 2 2\n",
      " 0 3 2 0 1 2 2 2 2 2 2 2 1 0 0 0 1 2 2 2 2 1 2 3 2 1]\n",
      "<type 'numpy.ndarray'>\n",
      "[21 20 42 17]\n",
      "    p: [ 0.2  0.2  0.4  0.2]\n",
      "p_hat: [ 0.21  0.2   0.42  0.17] (estimate of p based on  100 values)\n",
      "Sum of squared errors: 0.0014\n",
      "<type 'numpy.ndarray'>\n"
     ]
    }
   ],
   "source": [
    "p=np.array([0.2,0.2,0.4,0.2])\n",
    "c=np.arange(np.size(p))\n",
    "Xcstm = st.rv_discrete(values = (c,p))\n",
    "T=100  # Number of values generated\n",
    "values = Xcstm.rvs(size = T)\n",
    "# print values\n",
    "print values\n",
    "print type(values)\n",
    "print np.bincount(values,minlength=np.size(p))\n",
    "p_hat=np.bincount(values,minlength=np.size(p))/1./np.size(values)\n",
    "print \"    p:\", p\n",
    "print \"p_hat:\", p_hat,\"(estimate of p based on \", T, \"values)\"\n",
    "print \"Sum of squared errors:\", np.linalg.norm(p-p_hat)**2.  # the norm method calculates the 2-norm by default\n",
    "print type(p_hat)"
   ]
  },
  {
   "cell_type": "markdown",
   "metadata": {},
   "source": [
    "The same principle can be used to estimate the transition probability matrix for a Markov chain.  \n",
    "<br>**<SPAN style=\"BACKGROUND-COLOR: #C0C0C0\">Problem 2:</SPAN>**   Generate a length T simulation of a four state Markov chain using some initial distriubution and some 4x4 transition probability matrix P.  Select P to have some zeros in it, but make sure the process can eventually get to any state starting from any other state.  Then, taking the generated sequence as the only input, generate an estimate, P_hat, of the matrix P.   Your estimator should be more accurate for larger values of T.  (Hint:  For a given state i, the ith row of P is the probability distribution of the next state, given the current state is i.  So to estimate the ith row of P, you should focus on the states that occur just after state i is visited.)"
   ]
  },
  {
   "cell_type": "code",
   "execution_count": 62,
   "metadata": {
    "collapsed": false
   },
   "outputs": [
    {
     "name": "stdout",
     "output_type": "stream",
     "text": [
      "pi after 100 time unit:  [ 0.22756234  0.3892079   0.23330449  0.14992527]\n",
      "The original matrix is :\n",
      "[[ 0.    0.3   0.4   0.3 ]\n",
      " [ 0.3   0.45  0.25  0.  ]\n",
      " [ 0.25  0.4   0.    0.35]\n",
      " [ 0.35  0.35  0.3   0.  ]]\n",
      "The matrix generated from the generated sequences is:\n",
      "[[ 0.          0.28764143  0.40295909  0.30939948]\n",
      " [ 0.30886534  0.44585164  0.24528302  0.        ]\n",
      " [ 0.2457956   0.40793445  0.          0.34626994]\n",
      " [ 0.3516193   0.35492399  0.29345671  0.        ]]\n",
      "Even though the estimated probability matrix is a little bit off from the original one, \n",
      "However, it follows the trend of the original matrix.\n"
     ]
    }
   ],
   "source": [
    "T = 100 # Set time unit to 100\n",
    "# P is the 4*4 transition probability\n",
    "P = np.array([[0, 0.3, 0.4, 0.3], [0.3, 0.45, 0.25, 0], [0.25, 0.4, 0, 0.35], [0.35, 0.35, 0.3, 0]])\n",
    "pi0 = [0.3, 0.1, 0, 0.6] # pi0 is the initial distribution\n",
    "\n",
    "# Create markov_chain instance with P and pi0\n",
    "markov = Markov_chain(P, pi0)\n",
    "\n",
    "pi1 = [1, 0, 0, 0] # 0 state\n",
    "pi2 = [0, 1, 0, 0] # 1 state\n",
    "pi3 = [0, 0, 1, 0] # 2 state\n",
    "pi4 = [0, 0, 0, 1] # 3 state\n",
    "# Calculate pi in long term (100 time unit)\n",
    "pi = markov.pi(10000)\n",
    "# Get the first 10000 states\n",
    "values = markov.rvs(10000)\n",
    "\n",
    "p_hat = []\n",
    "#Write a function to count the number of y that appears after x in an array\n",
    "def count(array, x, y):\n",
    "    count = 0 #Set count to 0\n",
    "    #Loop through the array\n",
    "    for i in range(0, len(array)-1):\n",
    "        if array[i] == x and array[i+1]==y:\n",
    "            count = count + 1 #count++ if current is x and next is y\n",
    "    return count\n",
    "#Generate the estimated probability matrix \n",
    "for i in range(0, 4):\n",
    "    num = (count(values,i,0) + count(values,i,1) + count(values,i,2) + count(values,i,3))*1.\n",
    "    p_hat.append([count(values,i,0)/num, count(values,i,1)/num, count(values,i,2)/num, count(values,i,3)/num])\n",
    "\n",
    "print \"pi after 100 time unit: \", pi\n",
    "print \"The original matrix is :\"\n",
    "print P\n",
    "print \"The matrix generated from the generated sequences is:\"\n",
    "print (np.array(p_hat))\n",
    "print \"Even though the estimated probability matrix is a little bit off from the original one, \"\n",
    "print \"However, it follows the trend of the original matrix.\""
   ]
  },
  {
   "cell_type": "markdown",
   "metadata": {},
   "source": [
    "## Cache Replacement Policy:"
   ]
  },
  {
   "cell_type": "markdown",
   "metadata": {},
   "source": [
    "A cache is used to hold information so the information can be retrieved more quickly than going through memory. Suppose you have a memory or server that holds $n$ elements and you have a cache that holds $k$ elements ($n>k$). When you want to retrieve an item, you first search through the cache. If the item is in the cache, it is considered a hit. If it's not in the cache, it's considered a miss. When a miss occurs, you have the longer process of searching for the item in memory. A key question for cache design is what items to keep in the cache? When you have a miss should you place that item in the cache?  If so, what item in the cache should you replace (i.e. drop from the cache to make room)?  Since it's unlikely the items will be uniformly searched for (some items will be more popular than others) many policies have been developed to try and maximize the liklihood that a requested item will be in the cache. A few are listed below:\n",
    "<ol>\n",
    "    <li> Belady's Algorithm: This is considered to be the most efficient algorithm possible. When a miss occurs, it retrieves that item and replaces an item in the cache with it. The item that's replaced is the item that will not be retrieved for the longest time in the future. It is a practically impossible algorithm because it requires knowledge of how far in the future an item will needed. </li><br>\n",
    "    <li>Least Recently Used (LRU): You can think of this algorithm as a first in first out queue. When a miss occurs, that element gets retrieved from memory and gets put at the top of that queue. It replaces the item in the cache that was retrieved the longest time ago. When a hit occurs, that item gets put back to the top of the queue.</li><br>\n",
    "    <li>Random Replacement (RR): This algortihm is similiar to the LRU algorithm except the miss replaces an element that was previously in the cache, selected uniformly at random.</li><br>\n",
    "    <li>Least Frequently Used (LFU): In this algorithm the miss replaces the element in the cache that is the least frequently used. It's a little more complicated because you need to keep a count on the number of hits an element in the cache gets over a certain time period, or something similar. </li><br>\n",
    "</ol>\n",
    "\n",
    "Let's try and simulate the Least Recently Used policy. In your folder should be a file called all_names.csv. We are going to load this in and use it as the memory. We are also going to set up an ordered array to represent the cache. Then we're going to simulate retrievals of information based on a Zipf distribution and see what our experimental hit percentage is."
   ]
  },
  {
   "cell_type": "code",
   "execution_count": 35,
   "metadata": {
    "collapsed": false
   },
   "outputs": [
    {
     "name": "stdout",
     "output_type": "stream",
     "text": [
      "Hit Percentage: 0.367\n"
     ]
    },
    {
     "data": {
      "image/png": "[encoded data removed]",
      "text/plain": [
       "<matplotlib.figure.Figure at 0x7febc27d9e50>"
      ]
     },
     "metadata": {},
     "output_type": "display_data"
    }
   ],
   "source": [
    "#Loads the CSV file\n",
    "def load_file(filename):\n",
    "    names = []\n",
    "    try:\n",
    "        f = open(filename)\n",
    "        reader = csv.reader(f)\n",
    "        for row in reader:\n",
    "            names.append(row[0])\n",
    "        f.close()\n",
    "    except:\n",
    "        print 'Error: Could Not Load File'\n",
    "    return np.array(names)\n",
    "\n",
    "#Creates a zipf distribution using the stats discrete module\n",
    "def zipf(s, N):\n",
    "    n = range(1,N+1)\n",
    "    p = []\n",
    "    z = 0.\n",
    "    for i in n:\n",
    "        temp = (1./i)**s\n",
    "        p.append(temp)\n",
    "        z = z+temp\n",
    "    for i in range(np.size(p)): p[i]=p[i]/z\n",
    "    return st.rv_discrete(name = 'Zipf', values=(n,p))\n",
    "\n",
    "#When a hit occurs, move the hit item to the top of the list for LRU\n",
    "def cache_hit(cache,item):\n",
    "    # cache.index(item) is current location of item in the cache\n",
    "    for i in range(cache.index(item),np.size(cache)-1):    \n",
    "        cache[i] = cache[i+1]\n",
    "    cache[np.size(cache)-1] = item\n",
    "    return cache\n",
    "    \n",
    "#When a miss occurs, replace the least recently used (LRU) item\n",
    "def cache_miss(cache, item):\n",
    "    for i in range(np.size(cache)-1):\n",
    "        cache[i]=cache[i+1]\n",
    "    cache[np.size(cache)-1] = item\n",
    "    return cache\n",
    "\n",
    "#Runs the main code for the simulation\n",
    "filename = 'all_names.csv'\n",
    "names = load_file(filename) #This is treated as your memory\n",
    "rv_zipf = zipf(1.0,np.size(names))\n",
    "k = 50 #Size of the Cache\n",
    "r = 10000 #Number of retrievals\n",
    "hits = 0. #Keeps track of the number of hits in the cache\n",
    "hit_av = [] #Keeps track of the hit average\n",
    "cache = [] #List to represent the cache\n",
    "\n",
    "# We first fill cache with k items.  We don't check for\n",
    "# duplicates because if item stream is not diverse this\n",
    "# step could cause infinite loop.\n",
    "while np.size(cache) < k:                 \n",
    "    rv = rv_zipf.rvs()-1   #Random variate from the zipf distribution\n",
    "    item = names[rv]    #Item to be retrieved\n",
    "    cache.append(item)\n",
    "        \n",
    "for i in range(r):\n",
    "    rv = rv_zipf.rvs()-1   #Random variate from the zipf distribution\n",
    "    item = names[rv]    #Item to be retrieved\n",
    "    if item in cache:\n",
    "        cache = cache_hit(cache, item)\n",
    "        hits = hits+1\n",
    "    else:\n",
    "        cache = cache_miss(cache, item)\n",
    "    hit_av.append(hits/(i+1))\n",
    "\n",
    "plt.plot(hit_av)\n",
    "plt.title('Moving Hit Percentage')\n",
    "plt.xlabel('Number of Items Retrieved')\n",
    "plt.ylabel('Hit Percentage')\n",
    "print 'Hit Percentage:', hit_av[np.size(hit_av)-1]"
   ]
  },
  {
   "cell_type": "markdown",
   "metadata": {},
   "source": [
    "<br>**<SPAN style=\"BACKGROUND-COLOR: #C0C0C0\">Problem 3:</SPAN>** Use the code given above to do the following:\n",
    "<ol>\n",
    "<li> Create a new simulation using a random replacement policy. What is the impact on the hit percentage? Plot the moving hit percentage under this policy.</li>\n",
    "<li> We used a Zipf distribution to represent the retrieval requests. It is a heavy tailed distribution with two parameters s and N. Run the given LRU simulation, but vary the s value from 0.5 to 3 in .5 increments. Plot the moving hit percentage under each of these conditions. Why might this be occuring? (The answer lies in the structure of the Zipf distribution)</li>\n",
    "<li> Setting s=1.0 again for the LRU simulation, print out the cache hit rate for k=50, 100, 400, respectively.  How does the cache hit rate vary with the cache size k? Why is that?  \n",
    "<li> Explain whether or not the state of the cache in this experiment can be viewed as a Markov process, both for the LRU policy and for the random replacement policy.</li>"
   ]
  },
  {
   "cell_type": "code",
   "execution_count": 68,
   "metadata": {
    "collapsed": false
   },
   "outputs": [
    {
     "name": "stdout",
     "output_type": "stream",
     "text": [
      "#1:\n",
      "Hit Percentage: 0.3059\n",
      "For this question, change the cache_miss(cache, item) function.\n",
      "Randomly replace one element in cache by item.\n"
     ]
    },
    {
     "data": {
      "image/png": "[encoded data removed]",
      "text/plain": [
       "<matplotlib.figure.Figure at 0x7febc22594d0>"
      ]
     },
     "metadata": {},
     "output_type": "display_data"
    }
   ],
   "source": [
    "#1:\n",
    "#When a miss occurs, replace the randomely(RR)\n",
    "def cache_miss(cache, item):\n",
    "    cache[random.randrange(np.size(cache))] = item\n",
    "    return cache\n",
    "\n",
    "#Runs the main code for the simulation\n",
    "filename = 'all_names.csv'\n",
    "names = load_file(filename) #This is treated as your memory\n",
    "rv_zipf = zipf(1.0,np.size(names))\n",
    "k = 50 #Size of the Cache\n",
    "r = 10000 #Number of retrievals\n",
    "hits = 0. #Keeps track of the number of hits in the cache\n",
    "hit_av = [] #Keeps track of the hit average\n",
    "cache = [] #List to represent the cache\n",
    "\n",
    "# We first fill cache with k items.  We don't check for\n",
    "# duplicates because if item stream is not diverse this\n",
    "# step could cause infinite loop.\n",
    "while np.size(cache) < k:                 \n",
    "    rv = rv_zipf.rvs()-1   #Random variate from the zipf distribution\n",
    "    item = names[rv]    #Item to be retrieved\n",
    "    cache.append(item)\n",
    "        \n",
    "for i in range(r):\n",
    "    rv = rv_zipf.rvs()-1   #Random variate from the zipf distribution\n",
    "    item = names[rv]    #Item to be retrieved\n",
    "    if item in cache:\n",
    "        cache = cache_hit(cache, item)\n",
    "        hits = hits+1\n",
    "    else:\n",
    "        cache = cache_miss(cache, item)\n",
    "    hit_av.append(hits/(i+1))\n",
    "\n",
    "plt.plot(hit_av)\n",
    "plt.title('Moving Hit Percentage')\n",
    "plt.xlabel('Number of Items Retrieved')\n",
    "plt.ylabel('Hit Percentage')\n",
    "print \"#1:\"\n",
    "print 'Hit Percentage:', hit_av[np.size(hit_av)-1]\n",
    "print \"For this question, change the cache_miss(cache, item) function.\"\n",
    "print \"Randomly replace one element in cache by item.\""
   ]
  },
  {
   "cell_type": "code",
   "execution_count": 89,
   "metadata": {
    "collapsed": false
   },
   "outputs": [
    {
     "name": "stdout",
     "output_type": "stream",
     "text": [
      "Hit Percentage: 0.0244\n",
      "Hit Percentage: 0.3458\n",
      "Hit Percentage: 0.8194\n",
      "Hit Percentage: 0.9468\n",
      "Hit Percentage: 0.9802\n",
      "Hit Percentage: 0.9929\n",
      "As we increase s, the hit percentages increases.\n",
      "Zipf(s) function is propotional to 1/(i**S).\n",
      "Therefore, when s increases, the tail of zipf(s) decreases.\n",
      "Because Zip(s) have small tail, an item is more likely to be found.\n",
      "Therefore, the hit percentage went up as s increases.\n"
     ]
    },
    {
     "data": {
      "image/png": "[encoded data removed]",
      "text/plain": [
       "<matplotlib.figure.Figure at 0x7febc1c42090>"
      ]
     },
     "metadata": {},
     "output_type": "display_data"
    }
   ],
   "source": [
    "#2:\n",
    "#When a miss occurs, replace the least recently used (LRU) item\n",
    "def cache_miss(cache, item):\n",
    "    for i in range(np.size(cache)-1):\n",
    "        cache[i]=cache[i+1]\n",
    "    cache[np.size(cache)-1] = item\n",
    "    return cache\n",
    "\n",
    "j = 0.5\n",
    "while j<=3:\n",
    "    #Runs the main code for the simulation\n",
    "    filename = 'all_names.csv'\n",
    "    names = load_file(filename) #This is treated as your memory\n",
    "    rv_zipf = zipf(j,np.size(names))\n",
    "    k = 50 #Size of the Cache\n",
    "    r = 10000 #Number of retrievals\n",
    "    hits = 0. #Keeps track of the number of hits in the cache\n",
    "    hit_av = [] #Keeps track of the hit average\n",
    "    cache = [] #List to represent the cache\n",
    "\n",
    "    # We first fill cache with k items.  We don't check for\n",
    "    # duplicates because if item stream is not diverse this\n",
    "    # step could cause infinite loop.\n",
    "    while np.size(cache) < k:                 \n",
    "        rv = rv_zipf.rvs()-1   #Random variate from the zipf distribution\n",
    "        item = names[rv]    #Item to be retrieved\n",
    "        cache.append(item)\n",
    "\n",
    "    for i in range(r):\n",
    "        rv = rv_zipf.rvs()-1   #Random variate from the zipf distribution\n",
    "        item = names[rv]    #Item to be retrieved\n",
    "        if item in cache:\n",
    "            cache = cache_hit(cache, item)\n",
    "            hits = hits+1\n",
    "        else:\n",
    "            cache = cache_miss(cache, item)\n",
    "        hit_av.append(hits/(i+1))\n",
    "\n",
    "    plt.plot(hit_av)\n",
    "    plt.title('Moving Hit Percentage')\n",
    "    plt.xlabel('Number of Items Retrieved')\n",
    "    plt.ylabel('Hit Percentage')\n",
    "    print 'Hit Percentage:', hit_av[np.size(hit_av)-1]\n",
    "    j=j+0.5\n",
    "print \"As we increase s, the hit percentages increases.\" \n",
    "print \"Zipf(s) function is propotional to 1/(i**S).\"\n",
    "print \"Therefore, when s increases, the tail of zipf(s) decreases.\"\n",
    "print \"Because Zip(s) have small tail, an item is more likely to be found.\"\n",
    "print \"Therefore, the hit percentage went up as s increases.\"\n",
    "    "
   ]
  },
  {
   "cell_type": "code",
   "execution_count": 85,
   "metadata": {
    "collapsed": false
   },
   "outputs": [
    {
     "name": "stdout",
     "output_type": "stream",
     "text": [
      "#3:\n",
      "Hit Percentage(k=50): 0.3527\n",
      "Hit Percentage(k=100): 0.4324\n",
      "Hit Percentage(k=400): 0.5989\n",
      "The Hit Percentage increases as k increases. This make sense because when we increase the size of the cache,\n",
      "we are more likely to find an intem in the cache.\n"
     ]
    },
    {
     "data": {
      "image/png": "[encoded data removed]",
      "text/plain": [
       "<matplotlib.figure.Figure at 0x7febc1f405d0>"
      ]
     },
     "metadata": {},
     "output_type": "display_data"
    }
   ],
   "source": [
    "#When a miss occurs, replace the least recently used (LRU) item\n",
    "def cache_miss(cache, item):\n",
    "    for i in range(np.size(cache)-1):\n",
    "        cache[i]=cache[i+1]\n",
    "    cache[np.size(cache)-1] = item\n",
    "    return cache\n",
    "#Runs the main code for the simulation\n",
    "filename = 'all_names.csv'\n",
    "names = load_file(filename) #This is treated as your memory\n",
    "rv_zipf = zipf(1.0,np.size(names))\n",
    "k = 50 #Size of the Cache\n",
    "r = 10000 #Number of retrievals\n",
    "hits = 0. #Keeps track of the number of hits in the cache\n",
    "hit_av = [] #Keeps track of the hit average\n",
    "cache = [] #List to represent the cache\n",
    "\n",
    "# We first fill cache with k items.  We don't check for\n",
    "# duplicates because if item stream is not diverse this\n",
    "# step could cause infinite loop.\n",
    "while np.size(cache) < k:                 \n",
    "    rv = rv_zipf.rvs()-1   #Random variate from the zipf distribution\n",
    "    item = names[rv]    #Item to be retrieved\n",
    "    cache.append(item)\n",
    "        \n",
    "for i in range(r):\n",
    "    rv = rv_zipf.rvs()-1   #Random variate from the zipf distribution\n",
    "    item = names[rv]    #Item to be retrieved\n",
    "    if item in cache:\n",
    "        cache = cache_hit(cache, item)\n",
    "        hits = hits+1\n",
    "    else:\n",
    "        cache = cache_miss(cache, item)\n",
    "    hit_av.append(hits/(i+1))\n",
    "\n",
    "plt.plot(hit_av)\n",
    "plt.title('Moving Hit Percentage')\n",
    "plt.xlabel('Number of Items Retrieved')\n",
    "plt.ylabel('Hit Percentage')\n",
    "print \"#3:\"\n",
    "print 'Hit Percentage(k=50):', hit_av[np.size(hit_av)-1]\n",
    "\n",
    "#########################################################\n",
    "# k = 100\n",
    "k = 100 #Size of the Cache\n",
    "r = 10000 #Number of retrievals\n",
    "hits = 0. #Keeps track of the number of hits in the cache\n",
    "hit_av = [] #Keeps track of the hit average\n",
    "cache = [] #List to represent the cache\n",
    "\n",
    "# We first fill cache with k items.  We don't check for\n",
    "# duplicates because if item stream is not diverse this\n",
    "# step could cause infinite loop.\n",
    "while np.size(cache) < k:                 \n",
    "    rv = rv_zipf.rvs()-1   #Random variate from the zipf distribution\n",
    "    item = names[rv]    #Item to be retrieved\n",
    "    cache.append(item)\n",
    "        \n",
    "for i in range(r):\n",
    "    rv = rv_zipf.rvs()-1   #Random variate from the zipf distribution\n",
    "    item = names[rv]    #Item to be retrieved\n",
    "    if item in cache:\n",
    "        cache = cache_hit(cache, item)\n",
    "        hits = hits+1\n",
    "    else:\n",
    "        cache = cache_miss(cache, item)\n",
    "    hit_av.append(hits/(i+1))\n",
    "\n",
    "plt.plot(hit_av)\n",
    "print 'Hit Percentage(k=100):', hit_av[np.size(hit_av)-1]\n",
    "\n",
    "#########################################################\n",
    "# k = 400\n",
    "k = 400 #Size of the Cache\n",
    "r = 10000 #Number of retrievals\n",
    "hits = 0. #Keeps track of the number of hits in the cache\n",
    "hit_av = [] #Keeps track of the hit average\n",
    "cache = [] #List to represent the cache\n",
    "\n",
    "# We first fill cache with k items.  We don't check for\n",
    "# duplicates because if item stream is not diverse this\n",
    "# step could cause infinite loop.\n",
    "while np.size(cache) < k:                 \n",
    "    rv = rv_zipf.rvs()-1   #Random variate from the zipf distribution\n",
    "    item = names[rv]    #Item to be retrieved\n",
    "    cache.append(item)\n",
    "        \n",
    "for i in range(r):\n",
    "    rv = rv_zipf.rvs()-1   #Random variate from the zipf distribution\n",
    "    item = names[rv]    #Item to be retrieved\n",
    "    if item in cache:\n",
    "        cache = cache_hit(cache, item)\n",
    "        hits = hits+1\n",
    "    else:\n",
    "        cache = cache_miss(cache, item)\n",
    "    hit_av.append(hits/(i+1))\n",
    "\n",
    "plt.plot(hit_av)\n",
    "print 'Hit Percentage(k=400):', hit_av[np.size(hit_av)-1]\n",
    "print \"The Hit Percentage increases as k increases. This make sense because when we increase the size of the cache,\"\n",
    "print \"we are more likely to find an intem in the cache.\"\n"
   ]
  },
  {
   "cell_type": "markdown",
   "metadata": {},
   "source": [
    "#4. \n",
    "The state of the cache in this experiment can be viewed as a Markov prcess, for both the LRU policy and the random replacemnt policy. For LRU policy, the next state is itself (if hits) and the next state (miss) is depend on the current state. This is because the current state determines what the Least recently used element was. Therefore, it decides the next state. Each state will produce an unique probability matrix. For the RR policy, elements in each state have the equal probability to be replaced. However, it is still a markov process. This assembles a random walk. The current state determines the next state even though there are k different possible next states."
   ]
  },
  {
   "cell_type": "markdown",
   "metadata": {},
   "source": [
    "## Lab Questions:"
   ]
  },
  {
   "cell_type": "markdown",
   "metadata": {},
   "source": [
    "Make sure to complete all lab questions 1-3 for this weeks lab."
   ]
  }
 ],
 "metadata": {
  "kernelspec": {
   "display_name": "Python 2",
   "language": "python",
   "name": "python2"
  },
  "language_info": {
   "codemirror_mode": {
    "name": "ipython",
    "version": 2
   },
   "file_extension": ".py",
   "mimetype": "text/x-python",
   "name": "python",
   "nbconvert_exporter": "python",
   "pygments_lexer": "ipython2",
   "version": "2.7.11"
  }
 },
 "nbformat": 4,
 "nbformat_minor": 0
}

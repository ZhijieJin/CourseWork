{
 "cells": [
  {
   "cell_type": "markdown",
   "metadata": {},
   "source": [
    "# Lab 9: Binary hypothesis testing, sequential hypothesis testing, and gambler's ruin"
   ]
  },
  {
   "cell_type": "code",
   "execution_count": 1,
   "metadata": {
    "collapsed": false
   },
   "outputs": [
    {
     "name": "stdout",
     "output_type": "stream",
     "text": [
      "Modules Imported!\n"
     ]
    }
   ],
   "source": [
    "%matplotlib inline\n",
    "import matplotlib.pyplot as plt\n",
    "import numpy as np\n",
    "import scipy as sp\n",
    "import scipy.stats as st\n",
    "print 'Modules Imported!'"
   ]
  },
  {
   "cell_type": "markdown",
   "metadata": {},
   "source": [
    "## Binary Hypothesis Testing:"
   ]
  },
  {
   "cell_type": "markdown",
   "metadata": {},
   "source": [
    "In this section we want to simulate the ML (maximum likelihood) rule for independent observations.  For simplicity, we consider two hyptheses for a sequence of $N$ independent discrete random variables, with values in {0, . . . , n-1}.  Let $p_0$ and $p_1$ be two probability vectors of length $n$, representing two probability distributions over the set of possible values {0,1, . . . ,n-1}.  Under hypothesis $H_1$ the observations are independent with pmf $p_1$ and under $H_0$ the observations are independent with pmf $p_0.$  The given code is for $p_0=[0.2,0.2,0.4,0.2]$ and $p_1=[0.4,0.3,0.2,0.1]$. \n",
    "\n",
    "In your ECE 313 class, you have used the **likelihood ratio test (LRT)** implementation of the ML rule to determine which hypothesis is most likely. Recall that the liklihood ratio for each observation $k$ is defined by: $$\\Lambda(k) = \\frac{p_1(k)}{p_0(k)}$$   For a single observaton $k$, under the ML rule, we declare Hypothesis 1 if $\\Lambda(k)>1$ and declare Hypothesis 0 if $\\Lambda(k)<1$.\n",
    "\n",
    "In the code below, we want to be able to declare a hypothesis based on multiple observations. We can still use the LRT to determine which hypothesis to declare. This requires simply multiplying the likelihood ratios for the individual observations, to yield the likelihood ratio for all of the observations:\n",
    "$$\\Lambda(k_0,k_1,...k_{N-1})=\\frac{p_1(k_0)}{p_0(k_0)}*\\frac{p_1(k_1)}{p_0(k_1)}*...\\frac{p_1(k_{N-1})}{p_0(k_{N-1})}$$\n",
    "\n",
    "The code below creates two distributions (one for each hypothesis). It randomly chooses a hypothesis to be true and generates N random variates from that distribution. Finally, it computes $\\Lambda$ and compares it to the threshold  one to declare (i.e. detect) a hypothesis.  Afterwards it evaluates whether an error, either a false alarm or miss, occurred.  Run the code a few times to see different outcomes."
   ]
  },
  {
   "cell_type": "code",
   "execution_count": 2,
   "metadata": {
    "collapsed": false
   },
   "outputs": [
    {
     "name": "stdout",
     "output_type": "stream",
     "text": [
      "Data generated using true hypothesis H 1 :  [1 1 1 2 0 1 0 2 1 1]\n",
      "Lamb= 11.390625 >=1; Declare H1\n"
     ]
    }
   ],
   "source": [
    "N=10 # Number of samples\n",
    "p0=np.array([0.2,0.2,0.4,0.2]) #Probability vector for H0\n",
    "p1=np.array([0.4,0.3,0.2,0.1]) #Probability vector for H1\n",
    "\n",
    "if np.size(p0)!=np.size(p1):\n",
    "    print \"Warning, p0 and p1 have different sizes\"\n",
    "\n",
    "#Returns the ratio of the two probabilities for a single observation i\n",
    "def f(i):\n",
    "    return p1[i]/p0[i]\n",
    "\n",
    "c=np.arange(np.size(p0)) #Random variables take values 0, 1, . . . , np.size(p0)-1\n",
    "Xcstm0 = st.rv_discrete(values=(c,p0))   # scipy.stats object for distibution p0\n",
    "Xcstm1 = st.rv_discrete(values=(c,p1))   # scipy.stats object for distibution p1\n",
    "\n",
    "Htrue=np.random.randint(2)  # Sets the true hypothesis to be 0 or 1.\n",
    "\n",
    "#Generates an array of variates under the true hypothesis\n",
    "if Htrue==1:     \n",
    "    variates = Xcstm1.rvs(size=N)   \n",
    "else:\n",
    "    variates = Xcstm0.rvs(size=N)\n",
    "print \"Data generated using true hypothesis H\",Htrue ,\": \",variates\n",
    "\n",
    "#The next statement produces the likelihood ratio, Lamb, from the equation above.\n",
    "#You may want to look up Python's lambda, reduce, and map functions for better understanding\n",
    "Lamb = reduce(lambda x,y: x*y, map(f,variates))\n",
    "\n",
    "#Determines which hypothesis to declare\n",
    "if Lamb >= 1:\n",
    "    print \"Lamb=\", Lamb, \">=1; Declare H1\"\n",
    "else: print \"Lamb=\", Lamb, \"<1; Declare H0\"\n",
    "\n",
    "#Determines if our declaration was correct\n",
    "if (Lamb >=1) and (Htrue==0):\n",
    "    print \"H0 true, H1 declared -> False Alarm occured\"\n",
    "if (Lamb <1) and (Htrue==1):\n",
    "    print \"H1 true, H0 declared -> Miss occured\"\n"
   ]
  },
  {
   "cell_type": "markdown",
   "metadata": {},
   "source": [
    "<br>**<SPAN style=\"BACKGROUND-COLOR: #C0C0C0\">Problem 1:</SPAN>** Answer the following questions using the given distributions for the hypotheses above:\n",
    "<ol><li> Under these two hypothesis distributions, assume we are using the ML rule and one observation (i.e. N=1). What is the exact probability of a false alarm? What is the exact probability of a miss?</li>\n",
    "<li> Run 10,000 simulations with the given hypothesis distributions where $N=1$ and H0 is true. Print out the simulated average false alarm probability.</li>\n",
    "<li> Run 10,000 simulations with the given hypothesis distributions where $N=1$ and H1 is true. Print out the simulated average miss probability.</li>\n",
    "<li> Do your simulated results agree with your theoretical results from part 1?</li>\n",
    "<li> Repeat parts 2 and 3 but change the number of observations to $N=25$. This may take a little while to run. Does the increase in $N$ impact the error probabilities? Why do you think this may be the case?</li>"
   ]
  },
  {
   "cell_type": "code",
   "execution_count": 15,
   "metadata": {
    "collapsed": false
   },
   "outputs": [
    {
     "name": "stdout",
     "output_type": "stream",
     "text": [
      "1)\n",
      "P(False Alarm) = P(declare H1 true | H0)\n",
      "P(False Alarm) = 0.2 + 0.2 = 0.4\n",
      "P(Miss) = P(delcare H0 true | H1)\n",
      "P(Miss) = 0.2 + 0.1 = 0.3\n",
      "2)\n",
      "P(False Alarm) from simulation: 0.3965\n",
      "3)\n",
      "P(Miss) from simulationL 0.2925\n",
      "4)\n",
      "Yes, although there are little error,\n",
      "the simulation results agree with the true False Alarm probability and true Miss probability.\n",
      "5)\n",
      "P(False Alarm) from simulation: 0.0615\n",
      "P(Miss) from simulationL 0.0551\n",
      "Increasing the number of observations indeed impact the error probabilities.\n",
      "Increasing N causes both False Alarm and Miss probabily to decrease.\n",
      "The reason that we are less likely to get error probabilities is because\n",
      "we increases the number of observations. This is also true intuitively.\n"
     ]
    }
   ],
   "source": [
    "########Student Answer#############\n",
    "###################################\n",
    "#1.1 #############################################\n",
    "print \"1)\"\n",
    "print \"P(False Alarm) = P(declare H1 true | H0)\"\n",
    "print \"P(False Alarm) = 0.2 + 0.2 = 0.4\"\n",
    "print \"P(Miss) = P(delcare H0 true | H1)\"\n",
    "print \"P(Miss) = 0.2 + 0.1 = 0.3\"\n",
    "#1.2 ############################################\n",
    "print \"2)\"\n",
    "N=1 # Number of samples\n",
    "p0=np.array([0.2,0.2,0.4,0.2]) #Probability vector for H0\n",
    "p1=np.array([0.4,0.3,0.2,0.1]) #Probability vector for H1\n",
    "\n",
    "if np.size(p0)!=np.size(p1):\n",
    "    print \"Warning, p0 and p1 have different sizes\"\n",
    "\n",
    "#Returns the ratio of the two probabilities for a single observation i\n",
    "def f(i):\n",
    "    return p1[i]/p0[i]\n",
    "\n",
    "c=np.arange(np.size(p0)) #Random variables take values 0, 1, . . . , np.size(p0)-1\n",
    "Xcstm0 = st.rv_discrete(values=(c,p0))   # scipy.stats object for distibution p0\n",
    "Xcstm1 = st.rv_discrete(values=(c,p1))   # scipy.stats object for distibution p1\n",
    "\n",
    "FalseAlarm = 0\n",
    "for i in range(0,10000):\n",
    "    Htrue=0  # Sets the true hypothesis to be 0 or 1.\n",
    "    #Generates an array of variates under the true hypothesis\n",
    "    variates = Xcstm0.rvs(size=N)\n",
    "\n",
    "    #Produces the likelihood ratio, Lamb, from the equation above.\n",
    "    Lamb = reduce(lambda x,y: x*y, map(f,variates))\n",
    "    \n",
    "    #Find number of false alarms\n",
    "    if (Lamb >=1) and (Htrue==0):\n",
    "        FalseAlarm = FalseAlarm + 1\n",
    "print \"P(False Alarm) from simulation:\", FalseAlarm/10000.\n",
    "\n",
    "#1.3 ############################################\n",
    "print \"3)\"\n",
    "Miss = 0\n",
    "for i in range(0,10000):\n",
    "    Htrue=1  # Sets the true hypothesis to be 0 or 1.\n",
    "    #Generates an array of variates under the true hypothesis\n",
    "    variates = Xcstm1.rvs(size=N)\n",
    "\n",
    "    #Produces the likelihood ratio, Lamb, from the equation above.\n",
    "    Lamb = reduce(lambda x,y: x*y, map(f,variates))\n",
    "    \n",
    "    #Find number of false alarms\n",
    "    if (Lamb <1) and (Htrue==1):\n",
    "        Miss = Miss + 1\n",
    "print \"P(Miss) from simulationL\", Miss/10000.\n",
    "\n",
    "#1.4 ############################################\n",
    "print \"4)\"\n",
    "print \"Yes, although there are little error,\"\n",
    "print \"the simulation results agree with the true False Alarm probability and true Miss probability.\"\n",
    "\n",
    "#1.5 ############################################\n",
    "print \"5)\"\n",
    "N=25 # Number of samples\n",
    "\n",
    "FalseAlarm = 0\n",
    "for i in range(0,10000):\n",
    "    Htrue=0  # Sets the true hypothesis to be 0 or 1.\n",
    "    #Generates an array of variates under the true hypothesis\n",
    "    variates = Xcstm0.rvs(size=N)\n",
    "\n",
    "    #Produces the likelihood ratio, Lamb, from the equation above.\n",
    "    Lamb = reduce(lambda x,y: x*y, map(f,variates))\n",
    "    \n",
    "    #Find number of false alarms\n",
    "    if (Lamb >=1) and (Htrue==0):\n",
    "        FalseAlarm = FalseAlarm + 1\n",
    "print \"P(False Alarm) from simulation:\", FalseAlarm/10000.\n",
    "\n",
    "Miss = 0\n",
    "for i in range(0,10000):\n",
    "    Htrue=1  # Sets the true hypothesis to be 0 or 1.\n",
    "    #Generates an array of variates under the true hypothesis\n",
    "    variates = Xcstm1.rvs(size=N)\n",
    "\n",
    "    #Produces the likelihood ratio, Lamb, from the equation above.\n",
    "    Lamb = reduce(lambda x,y: x*y, map(f,variates))\n",
    "    \n",
    "    #Find number of false alarms\n",
    "    if (Lamb <1) and (Htrue==1):\n",
    "        Miss = Miss + 1\n",
    "print \"P(Miss) from simulationL\", Miss/10000.\n",
    "print \"Increasing the number of observations indeed impact the error probabilities.\"\n",
    "print \"Increasing N causes both False Alarm and Miss probabily to decrease.\"\n",
    "print \"The reason that we are less likely to get error probabilities is because\"\n",
    "print \"we increases the number of observations. This is also true intuitively.\""
   ]
  },
  {
   "cell_type": "markdown",
   "metadata": {},
   "source": [
    "## Sequential Hypothesis Testing:"
   ]
  },
  {
   "cell_type": "markdown",
   "metadata": {},
   "source": [
    "If we take a look at the values of the likelihood ratio produced by the simulations above for $N>1$, we see that sometimes the value is much larger than one or much smaller than one.  This suggests that even if we used fewer than all N observations we would have made the correct decision.   Other times the value of the likelihood ratio is close to one, suggesting it would be useful to take some additional observations.    The  idea of *sequential hypothesis testing* (originally developed by A. Wald in the 1940's--see his 1945 paper <A href=http://www.jstor.org/stable/2235829> \"Sequential tests of statistical hypotheses\"</A>) is to try to reduce the average number of observations required for the same error probabilities by using a variable number of observations.   Specifically, Wald's *sequential probability ratio test* (SPRT) works as follows. After each observation we compare the likelihood ratio obtained so far to two thresholds, A and B, where  0 < B < 1 < A.  If the likelihood ratio is smaller than B we stop taking samples and declare $H_0$ to be true.   If the likelihood ratio is larger than A we stop taking samples and declare $H_1$ to be true.   If the likelihood ratio is between the thresholds we take another observation. Below is an example of sequential hypothesis testing for the two hypotheses we had in the previous problem."
   ]
  },
  {
   "cell_type": "code",
   "execution_count": 10,
   "metadata": {
    "collapsed": false
   },
   "outputs": [
    {
     "name": "stdout",
     "output_type": "stream",
     "text": [
      "Data is generated using true hypothesis H 1 .\n",
      "Lamb= 22.78125 >= 16.6666666667 ; Declare H1 is true\n",
      "Number of Observations: 15\n"
     ]
    },
    {
     "data": {
      "image/png": "[encoded data removed]",
      "text/plain": [
       "<matplotlib.figure.Figure at 0x7fbc6126cdd0>"
      ]
     },
     "metadata": {},
     "output_type": "display_data"
    }
   ],
   "source": [
    "N_max=100 # maximum number of observations allowed\n",
    "p0=np.array([0.2,0.2,0.4,0.2])\n",
    "p1=np.array([0.4,0.3,0.2,0.1]) \n",
    "\n",
    "if np.size(p0)!=np.size(p1):\n",
    "    print \"warning, p0 and p1 have different sizes\"\n",
    "\n",
    "def f(i):\n",
    "    return p1[i]/p0[i]\n",
    "\n",
    "c=np.arange(np.size(p0))\n",
    "Xcstm0 = st.rv_discrete(values=(c,p0))   # scipy.stats object for distibution p0\n",
    "Xcstm1 = st.rv_discrete(values=(c,p1))   # scipy.stats object for distibution p1\n",
    "\n",
    "Htrue = np.random.randint(2)  # True hypothesis, should be 0 or 1\n",
    "\n",
    "if Htrue==1:\n",
    "    Xtrue = Xcstm1   \n",
    "else:\n",
    "    Xtrue = Xcstm0\n",
    "\n",
    "t=0\n",
    "Lamb=[1]\n",
    "alpha =.06 # Upper bound on false alarm probability\n",
    "beta=.055  # Upper bound on missed detection probability\n",
    "A=1/alpha\n",
    "B=beta\n",
    "\n",
    "while (Lamb[t]>B) and (Lamb[t]<A) and (t<N_max):\n",
    "    Lamb.append(f(Xtrue.rvs())*Lamb[t])\n",
    "    t=t+1\n",
    "    \n",
    "print \"Data is generated using true hypothesis H\",Htrue,\".\"\n",
    "\n",
    "if Lamb[t] >= A:\n",
    "    print \"Lamb=\", Lamb[t], \">=\",A,\"; Declare H1 is true\"\n",
    "else: \n",
    "    print \"Lamb=\", Lamb[t], \"<\",B,\"; Declare H0 is true\"\n",
    "\n",
    "#Determines if our declaration was correct\n",
    "if (Lamb[t] >=A) and (Htrue==0):\n",
    "    print \"H0 true, H1 declared -> False alarm occured\"\n",
    "if (Lamb[t] <B) and (Htrue==1):\n",
    "    print \"H1 true, H0 declared -> Miss occured\"\n",
    "\n",
    "plt.plot(Lamb)\n",
    "plt.title('Liklihood Ratio vs. Observation')\n",
    "plt.xlabel('Observation Number')\n",
    "plt.ylabel('Liklihood Ratio')\n",
    "\n",
    "print 'Number of Observations:', t"
   ]
  },
  {
   "cell_type": "markdown",
   "metadata": {},
   "source": [
    "Clearly, the probabilities of a false alarm or miss are dependent upon the values chosen for A and B. It can be shown that for given values $\\alpha$ and $\\beta$ between zero and one, we can ensure that $p_{false alarm}\\leq\\alpha$ and $p_{miss}\\leq \\beta$ by setting $A = \\frac{1}{\\alpha}$ and $B =\\beta.$  This choice is on the conservative side.  Less conservative approximations for suitable thresholds (see p. 131 of Wald's paper) are given by $A = \\frac{1-\\beta}{\\alpha}$ and $B =\\frac{\\beta}{1-\\alpha}.$\n",
    "\n",
    "When implementing likelihood ratios for large numbers of observations, the likelihood ratios can get extremely small (close to zero) or large.  An equivalent implementation that is numerically more stable\n",
    "is to work with the logarithms of the likelihood ratios.   Instead of multiplying likelihood ratios as we did above, we can add log likelihood ratios using the update rule $S_i = S_{i-1}+\\log(\\Lambda_i).$  If we stop taking observations when $S_i<\\log(B)$ or $S_i>\\log(A)$ the test is equivalent to the one without taking logs and using thresholds B and A.\n",
    "\n",
    "<br>**<SPAN style=\"BACKGROUND-COLOR: #C0C0C0\">Problem 2:</SPAN>** Use the same distributions we had in the first problem to answer the following questions. For the numerical values of $\\alpha$ and $\\beta$ in parts 1 and 2 below, use the probabilities $p_{false~alarm}$ and $p_{miss}$, respectively, that you obtained experimentally in the last part of Problem 1.  That way, you should obtain a sequential testing rule with error probabilities of each type smaller than those for the nonsquential method in Problem 1.\n",
    "<ol><li>Using the code above, suppose we wanted $p_{false alarm}\\leq \\alpha$ and $p_{miss}\\leq \\beta$. Verify, in simulation, we can achieve this by using a sequential hypothesis ratio test where\n",
    "$A=\\frac{1}{\\alpha}$ and $B=\\beta.$  To do this, for Htrue=0 and Htrue=1, perform 10,000 simulations each and calculate the error probabilities. Keep track of the number of observations needed during each simulation and print out the average. </li>\n",
    "<li> Repeat the same experiment as 1, but use the procedure given above where\n",
    "$A = \\frac{1-\\beta}{\\alpha}$ and $B =\\frac{\\beta}{1-\\alpha}.$  </li>\n",
    "<li> The idea behind sequential hypothesis testing is that when using these ratios as thresholds, we should need a smaller number of observations on average to determine a hypothesis with the given error probabilities. Compare the average number of steps needed between part one of this problem, part two of this problem, and the last part of Problem 1. Comment on the differences.</li>"
   ]
  },
  {
   "cell_type": "code",
   "execution_count": 20,
   "metadata": {
    "collapsed": false
   },
   "outputs": [
    {
     "name": "stdout",
     "output_type": "stream",
     "text": [
      "1), A = 1/alpha, B = beta\n",
      "Number of Observations: 6\n",
      "Alpha (Flase Alarm Probability) used is:  0.0619\n",
      "Experimental False Alarm Probability is: 0.0454\n",
      "Indeed, the Experimental False Alarm Probability is less than Alpha.\n",
      "Number of Observations: 7\n",
      "Beta (Miss Probability) used is:  0.0514\n",
      "Experimental Miss Probability is : 0.0341\n",
      "Indeed Experimental Miss Probability is less than beta.\n",
      "\n",
      "2), A = (1-beta)/alpha, B = beta/(1-alpha)\n",
      "Number of Observations: 22\n",
      "Alpha (Flase Alarm Probability) used is:  0.0619\n",
      "Experimental False Alarm Probability is: 0.0459\n",
      "Indeed, the Experimental False Alarm Probability is less than Alpha.\n",
      "Number of Observations: 7\n",
      "Beta (Miss Probability) used is:  0.0514\n",
      "Experimental Miss Probability is : 0.0379\n",
      "Indeed Experimental Miss Probability is less than beta.\n",
      "\n",
      "3)\n",
      "For the last part of question 1, the number of observations needed is N = 25.\n",
      "For part 1 of this problem:\n",
      "The number of observations needed to achieve the same goal for False alarm is N = 6\n",
      "The number of observations needed to achieve the same goal for Miss is N = 7\n",
      "For part 2 of this problem:\n",
      "The number of observations needed to achieve the same goal for False alarm is N = 22\n",
      "The number of observations needed to achieve the same goal for Miss is N = 7\n",
      "By using A = 1/alpha, B = beta, we reduces the number of observations needed to achieve the same goal.\n",
      "However, by using A = (1-beta)/alpha, and B = beta/(1-alpha), the number of observatoins are less stable.\n",
      "We sometimes reduce, sometimes increase the number of observations.\n"
     ]
    }
   ],
   "source": [
    "########Student Answer#############\n",
    "###################################\n",
    "#2.1 ###################################\n",
    "print \"1), A = 1/alpha, B = beta\"\n",
    "\n",
    "N=1 # Number of samples\n",
    "p0=np.array([0.2,0.2,0.4,0.2]) #Probability vector for H0\n",
    "p1=np.array([0.4,0.3,0.2,0.1]) #Probability vector for H1\n",
    "\n",
    "if np.size(p0)!=np.size(p1):\n",
    "    print \"Warning, p0 and p1 have different sizes\"\n",
    "\n",
    "#Returns the ratio of the two probabilities for a single observation i\n",
    "def f(i):\n",
    "    return p1[i]/p0[i]\n",
    "\n",
    "c=np.arange(np.size(p0)) #Random variables take values 0, 1, . . . , np.size(p0)-1\n",
    "Xcstm0 = st.rv_discrete(values=(c,p0))   # scipy.stats object for distibution p0\n",
    "Xcstm1 = st.rv_discrete(values=(c,p1))   # scipy.stats object for distibution p1\n",
    "\n",
    "N=25 # Number of samples\n",
    "FalseAlarm = 0\n",
    "for i in range(0,10000):\n",
    "    Htrue=0  # Sets the true hypothesis to be 0 or 1.\n",
    "    #Generates an array of variates under the true hypothesis\n",
    "    variates = Xcstm0.rvs(size=N)\n",
    "\n",
    "    #Produces the likelihood ratio, Lamb, from the equation above.\n",
    "    Lamb = reduce(lambda x,y: x*y, map(f,variates))\n",
    "    \n",
    "    #Find number of false alarms\n",
    "    if (Lamb >=1) and (Htrue==0):\n",
    "        FalseAlarm = FalseAlarm + 1\n",
    "alpha = FalseAlarm/10000.\n",
    "A = 1/alpha\n",
    "\n",
    "Miss = 0\n",
    "for i in range(0,10000):\n",
    "    Htrue=1  # Sets the true hypothesis to be 0 or 1.\n",
    "    #Generates an array of variates under the true hypothesis\n",
    "    variates = Xcstm1.rvs(size=N)\n",
    "\n",
    "    #Produces the likelihood ratio, Lamb, from the equation above.\n",
    "    Lamb = reduce(lambda x,y: x*y, map(f,variates))\n",
    "    \n",
    "    #Find number of false alarms\n",
    "    if (Lamb <1) and (Htrue==1):\n",
    "        Miss = Miss + 1\n",
    "beta = Miss/10000.\n",
    "B = beta\n",
    "\n",
    "N_max=100 # maximum number of observations allowed\n",
    "ExpFalseAlarm = 0\n",
    "for i in range(0,10000):\n",
    "    Htrue=0  # Sets the true hypothesis to be 0 or 1.\n",
    "    Xtrue = Xcstm0\n",
    "    t=0\n",
    "    Lamb=[1]\n",
    "    while (Lamb[t]>B) and (Lamb[t]<A) and (t<N_max):\n",
    "        Lamb.append(f(Xtrue.rvs())*Lamb[t])\n",
    "        t=t+1\n",
    "    \n",
    "    #Find number of false alarms\n",
    "    if (Lamb[t] >=A) and (Htrue==0):\n",
    "        ExpFalseAlarm = ExpFalseAlarm + 1\n",
    "t1 = t\n",
    "print 'Number of Observations:', t\n",
    "print \"Alpha (Flase Alarm Probability) used is: \", alpha\n",
    "print \"Experimental False Alarm Probability is:\", ExpFalseAlarm/10000.\n",
    "print \"Indeed, the Experimental False Alarm Probability is less than Alpha.\"\n",
    "        \n",
    "ExpMiss = 0\n",
    "for i in range(0,10000):\n",
    "    Htrue=1  # Sets the true hypothesis to be 0 or 1.\n",
    "    Xtrue = Xcstm1\n",
    "    t=0\n",
    "    Lamb=[1]\n",
    "    while (Lamb[t]>B) and (Lamb[t]<A) and (t<N_max):\n",
    "        Lamb.append(f(Xtrue.rvs())*Lamb[t])\n",
    "        t=t+1\n",
    "    \n",
    "    #Find number of false alarms\n",
    "    if (Lamb[t]<B) and (Htrue==1):\n",
    "        ExpMiss = ExpMiss + 1\n",
    "t2 = t\n",
    "print 'Number of Observations:', t\n",
    "print \"Beta (Miss Probability) used is: \", beta\n",
    "print \"Experimental Miss Probability is :\", ExpMiss/10000.\n",
    "print \"Indeed Experimental Miss Probability is less than beta.\"\n",
    "print \"\"\n",
    "#2.2 #################################################\n",
    "print \"2), A = (1-beta)/alpha, B = beta/(1-alpha)\"\n",
    "A = (1-beta)/alpha\n",
    "B = beta/(1-alpha)\n",
    "N_max=100 # maximum number of observations allowed\n",
    "ExpFalseAlarm = 0\n",
    "for i in range(0,10000):\n",
    "    Htrue=0  # Sets the true hypothesis to be 0 or 1.\n",
    "    Xtrue = Xcstm0\n",
    "    t=0\n",
    "    Lamb=[1]\n",
    "    while (Lamb[t]>B) and (Lamb[t]<A) and (t<N_max):\n",
    "        Lamb.append(f(Xtrue.rvs())*Lamb[t])\n",
    "        t=t+1\n",
    "    \n",
    "    #Find number of false alarms\n",
    "    if (Lamb[t] >=A) and (Htrue==0):\n",
    "        ExpFalseAlarm = ExpFalseAlarm + 1\n",
    "t3 = t\n",
    "print 'Number of Observations:', t\n",
    "print \"Alpha (Flase Alarm Probability) used is: \", alpha\n",
    "print \"Experimental False Alarm Probability is:\", ExpFalseAlarm/10000.\n",
    "print \"Indeed, the Experimental False Alarm Probability is less than Alpha.\"\n",
    "        \n",
    "ExpMiss = 0\n",
    "for i in range(0,10000):\n",
    "    Htrue=1  # Sets the true hypothesis to be 0 or 1.\n",
    "    Xtrue = Xcstm1\n",
    "    t=0\n",
    "    Lamb=[1]\n",
    "    while (Lamb[t]>B) and (Lamb[t]<A) and (t<N_max):\n",
    "        Lamb.append(f(Xtrue.rvs())*Lamb[t])\n",
    "        t=t+1\n",
    "    \n",
    "    #Find number of false alarms\n",
    "    if (Lamb[t]<B) and (Htrue==1):\n",
    "        ExpMiss = ExpMiss + 1\n",
    "t4 = t\n",
    "print 'Number of Observations:', t\n",
    "print \"Beta (Miss Probability) used is: \", beta\n",
    "print \"Experimental Miss Probability is :\", ExpMiss/10000.\n",
    "print \"Indeed Experimental Miss Probability is less than beta.\"\n",
    "print \"\"\n",
    "\n",
    "#2.3 ###########################################\n",
    "print \"3)\"\n",
    "print \"For the last part of question 1, the number of observations needed is N = 25.\"\n",
    "print \"For part 1 of this problem:\"\n",
    "print \"The number of observations needed to achieve the same goal for False alarm is N =\", t1\n",
    "print \"The number of observations needed to achieve the same goal for Miss is N =\", t2\n",
    "print \"For part 2 of this problem:\"\n",
    "print \"The number of observations needed to achieve the same goal for False alarm is N =\", t3\n",
    "print \"The number of observations needed to achieve the same goal for Miss is N =\", t4\n",
    "print \"By using A = 1/alpha, B = beta, we reduces the number of observations needed to achieve the same goal.\"\n",
    "print \"However, by using A = (1-beta)/alpha, and B = beta/(1-alpha), the number of observatoins are less stable.\"\n",
    "print \"We sometimes reduce, sometimes increase the number of observations.\""
   ]
  },
  {
   "cell_type": "markdown",
   "metadata": {},
   "source": [
    "## Gambler's Ruin:"
   ]
  },
  {
   "cell_type": "markdown",
   "metadata": {},
   "source": [
    "A very popular problem in random walks is known as the gambler's ruin problem. You should recognize this as a more simplified version of that zombie simulation we did back in Lab 6. Suppose that you're a gambler and you have $k$ units of money. You think you're a pretty good gambler and tell yourself you will leave the casino as soon as you have accumulated a total of $b$ units money, for some $b$ with $b>k$.\n",
    "However, if you run out of money you need to stop playing; we say you are ruined in that case.  You can place only one bet for one unit of money at a time and the outcomes of the bet's are independent of each other. With each bet you have a probability $p$ of increasing your total by one and a probability $1-p$ of decreasing your total by one.  You could do this, for example, by betting one unit of money on red at a\n",
    "<a href=http://en.wikipedia.org/wiki/Roulette> US roulette wheel </a> (which has 18 red numbers, 18 black numbers, and two dark green numbers 0 and 00), $p=18/38.$   What's the probability you ruin yourself (have no money left) before walking out of the casino? \n",
    "\n",
    "To answer the question of probability requires a recurrence equation and we'll get to that in a little bit, but first let's just simulate this problem. It is essentially a random walk. We can create a discrete random variable object to store the distribution used for the outcome of each bet, and use random variates of the object to model the independent outcomes.  We stop our simulation when we've either lost all our money or reached our goal."
   ]
  },
  {
   "cell_type": "code",
   "execution_count": 21,
   "metadata": {
    "collapsed": false
   },
   "outputs": [
    {
     "name": "stdout",
     "output_type": "stream",
     "text": [
      "Congratulations, you made your goal!\n"
     ]
    },
    {
     "data": {
      "text/plain": [
       "<matplotlib.text.Text at 0x7f1adcdb4ad0>"
      ]
     },
     "execution_count": 21,
     "metadata": {},
     "output_type": "execute_result"
    },
    {
     "data": {
      "image/png": "[encoded data removed]",
      "text/plain": [
       "<matplotlib.figure.Figure at 0x7f1add0542d0>"
      ]
     },
     "metadata": {},
     "output_type": "display_data"
    }
   ],
   "source": [
    "#Creates the RV of a bet\n",
    "p = 18/38. #Probability of succeding in the bet\n",
    "k = [15] #Starting amount of money\n",
    "b = 20 #Monetary Goal\n",
    "RVBet = st.rv_discrete(name='RVBet',values =([1,-1],[p,1-p]))\n",
    "\n",
    "#Steps through the random walk until we either lose our money or meet the goal\n",
    "n = 0\n",
    "while (k[n]!=0 and k[n]!=b):\n",
    "    k.append(k[n]+RVBet.rvs()) #Appends our current total plus the results of the bet\n",
    "    n = n+1\n",
    "\n",
    "if k[n]==b:\n",
    "    print \"Congratulations, you made your goal!\"\n",
    "else:\n",
    "    print \"Sorry, you were ruined.   Better luck next time!\"\n",
    "    \n",
    "#Graphs the walk\n",
    "n = range(n+1)\n",
    "plt.plot(n,k)\n",
    "plt.axis(ymin=0,ymax=b)\n",
    "plt.title('Random Walk of a Gambler')\n",
    "plt.ylabel('Money left')\n",
    "plt.xlabel('Number of Bets')\n"
   ]
  },
  {
   "cell_type": "markdown",
   "metadata": {},
   "source": [
    "Explore the gambler's ruin simulator if you want. For the given numbers ($p=18/38,b=20,$ initial stake 15) do you think the chance of success is greater than 50%?  Change the probabilities or the monetary values. What would you expect to happen if we had $p=\\frac{1}{2}$? As stated before, in order to determine the probability of ruin, we need to set up a recurrence equation. Remember that the outcome for each bet placed is independent. \n",
    "\n",
    "Let $r_k$ represent the probability of ruin when we start with k units of money. \n",
    "\n",
    "Since the bets are independent we should see, by the law of total probability based on the outcome of the first bet, that $r_k=p*r_{k+1}+(1-p)*r_{k-1}.$   That is, the probability that we're ruined starting with $k$ units of money is equal to $p$ times the probability we're ruined starting with $k+1$ units of money plus $1-p$ times the probability we're ruined starting with $k-1$ units of money.  The boundary conditions are $r_0=1$ and $r_b=0,$ becasue if we have no money the probability we're ruined is 1, if we're at our goal, the probability we're ruined is 0). So we have $b-1$ equations for $b-1$ unknowns.\n",
    "\n",
    "You may have seen such a set of linear equations in one of your math classes, but this recurrence has a closed form solution: $r_k=C_1\\lambda_1^k+C_2\\lambda_2^k$, where $\\lambda_{1}$ and $\\lambda_{2}$ solve the characteristic equation $\\lambda=p\\lambda^2+(1-p)$ which is derived from our recurrence equation. To solve for the two constants $C_1$ and $C_2$, we use the two boundary conditions $r_0=1, r_b=0.$  \n",
    "\n",
    "As an example let's use the initial conditions set up above where $b=20,k=15,p=\\frac{18}{38}$. The first step is to find $\\lambda$ from the recurrence equation: $0=p\\lambda^2-\\lambda+(1-p)$"
   ]
  },
  {
   "cell_type": "code",
   "execution_count": 77,
   "metadata": {
    "collapsed": false
   },
   "outputs": [
    {
     "name": "stdout",
     "output_type": "stream",
     "text": [
      "[ 1.11111111  1.        ]\n"
     ]
    }
   ],
   "source": [
    "p = 18./38 #probability\n",
    "c = [p,-1,(1-p)]#Creates a vector of the coefficients of the quadratic equation\n",
    "print np.roots(c) #Prints the roots of the polynomial with coefficients given by c"
   ]
  },
  {
   "cell_type": "markdown",
   "metadata": {},
   "source": [
    "With a little bit of theory, in our specific scenario, we could show that we will always get roots of 1 and $\\frac{1-p}{p}.$  But this changes once our scenario differs from just the simple two option ruin problem shown here.  Let's let\n",
    "$\\lambda = \\lambda_1 = \\frac{1-p}{p}$ and\n",
    "$\\lambda_2=1,$  so we have $r_k=C_{1}\\lambda^k+C_{2}.$ \n",
    "\n",
    "We can solve for the coefficients using the boundary conditions $r_0=1$ and $r_b=0$. We get:\n",
    "\n",
    "$C_{1}+C_{2}=1$ and $C_{1}\\lambda^{b}+C_{2}=0$.\n",
    "\n",
    "So $C_1$ satisfies $C_1\\lambda^{b}+(1-C_1)=0$,  or $C_1(\\lambda^{b}-1)=-1$, or $C_1 = \\frac{1}{1-\\lambda^{b}},$  and $C_2 = 1-C_1.$  So the probability that we're ruined if we start with 15 dollars is computed by:\n"
   ]
  },
  {
   "cell_type": "code",
   "execution_count": 78,
   "metadata": {
    "collapsed": false
   },
   "outputs": [
    {
     "name": "stdout",
     "output_type": "stream",
     "text": [
      "P{ruin when starting at 15}= 0.466187518968\n",
      "-0.138403259916\n",
      "1.13840325992\n"
     ]
    }
   ],
   "source": [
    "lamb=(1-p)/p\n",
    "C1 = 1./(1-lamb**20)\n",
    "C2 = 1-C1\n",
    "print 'P{ruin when starting at 15}=',C1*lamb**15+C2\n",
    "print C1\n",
    "print C2"
   ]
  },
  {
   "cell_type": "markdown",
   "metadata": {},
   "source": [
    "Your chance of success is better than 50%!  However, if you are successful you win only five units of money and if you are ruined you lose fifteen units of money.  "
   ]
  },
  {
   "cell_type": "markdown",
   "metadata": {},
   "source": [
    "There is a connection between SPRTs and the gambler's ruin problem. For example, consider the following hypotheses for a sequence of independent binary observations:\n",
    "<ul>\n",
    "<li> H_0: The obervations have the Bernoulli distribution with parameter p=18/38.\n",
    "<li> H_1: The observations have the Bernoulli distribution with parameter p=20/38.\n",
    "</ul>\n",
    "<br>**<SPAN style=\"BACKGROUND-COLOR: #C0C0C0\">Problem 3:</SPAN>** (Hint: This is a thinking problem, not a coding problem.  You should thus write your answer in a markdown cell instead of writing code.)\n",
    "<ol>\n",
    "<li> Write down the sequence of likelihood ratios after 1,2,3,4, or 5 observations, for\n",
    "the sequence of observations 1,1,0,1,1.  Express you answers as powers of (20/18).  (Note: You should be able to see that the sequence of likelihood ratios is determined by a random walk.)\n",
    "<li> Find values of the thresholds $A$ and $B$ for the SPRT so that $1−p_{false~alarm}$ for the SPRT is equal to the probability the gambler is ruined for the roulette game (i.e. with win probability p=18/38 for each bet) simulated above with b=20 and inital state 15.  (Hint: Think about how the likelihood ratio for the SPRT changes after each observation to see where a random walk fits in.)\n",
    "</ol>"
   ]
  },
  {
   "cell_type": "markdown",
   "metadata": {
    "collapsed": false
   },
   "source": [
    "########Student Answer#############\n",
    "###################################\n",
    "1. (20/18), (20/18)^2, (20/18), (20/18)^2, (20/18)^3\n",
    "2. A = (20/18)^5, B = (18/20)^15"
   ]
  },
  {
   "cell_type": "markdown",
   "metadata": {},
   "source": [
    "<br>**<SPAN style=\"BACKGROUND-COLOR: #C0C0C0\">Problem 4:</SPAN>** Now, I want you to analyze a slightly more complext version of the gambler's ruin problem. Suppose that a gambler walks into a casino with 15 units of money and will leave if he meets his goal of 20 units of money or if he loses all of his money. For each bet, there is a probability of 0.4 that he wins one unit of money, a probability 0.15 that he breaks even (neither wins nor loses money), and a probability 0.45 that he loses one unit of money. \n",
    "<html>\n",
    "    <body>\n",
    "        <ol>\n",
    "            <li> Create a single simulation of this gambler's ruin problem. Graph the gambler's progress over each bet.</li>\n",
    "            <li> Use the process described above to determine the recurrence equation. It will be of the form $r_k = p_1r_{k+1} + p_2r_k+p_3r_{k-1}$, which has a closed form solution: $r_k=C_1\\lambda_1^k+C_2\\lambda_2^k$. What is the probability that a gambler is ruined when he starts with $15$ dollars?\n",
    "            <li> Simulate the gambler's ruin problem 10,000 times starting with $15$ dollars. What is the experimental ruin probability? How does it compare to your answer in 2? (Hint: Don't print out the graph for each simulation, this is completely unnecessary and time consuming.)\n",
    "        </ol>\n",
    "    </body>\n",
    "</html>"
   ]
  },
  {
   "cell_type": "code",
   "execution_count": 82,
   "metadata": {
    "collapsed": false
   },
   "outputs": [
    {
     "name": "stdout",
     "output_type": "stream",
     "text": [
      "1)\n",
      "Congratulations, you made your goal!\n",
      "Plot is at the bottom.\n",
      "\n",
      "2)\n",
      "Calculated lambda from the equation are:  [ 1.125  1.   ]\n",
      "Printing out ruin probability for just one trial:\n",
      "P{ruin when starting at 15}= 0.491699294866\n",
      "\n",
      "3)\n",
      "Printing out the ruin probability for 10,000 trials:\n",
      "The experimental ruin probability is:  0.4904\n",
      "By comparing the result from part 2) and part 3), we find that the two values are pretty close.\n"
     ]
    },
    {
     "data": {
      "image/png": "[encoded data removed]",
      "text/plain": [
       "<matplotlib.figure.Figure at 0x7f1adbeb5190>"
      ]
     },
     "metadata": {},
     "output_type": "display_data"
    }
   ],
   "source": [
    "########Student Answer#############\n",
    "###################################\n",
    "#4.1 ######################################\n",
    "print \"1)\"\n",
    "plt.figure()\n",
    "#Creates the RV of a bet\n",
    "k = [15] #Starting amount of money\n",
    "b = 20 #Monetary Goal\n",
    "RVBet = st.rv_discrete(name='RVBet',values =([1,0,-1],[0.4,0.15,0.45]))\n",
    "\n",
    "#Steps through the random walk until we either lose our money or meet the goal\n",
    "n = 0\n",
    "while (k[n]!=0 and k[n]!=b):\n",
    "    k.append(k[n]+RVBet.rvs()) #Appends our current total plus the results of the bet\n",
    "    n = n+1\n",
    "\n",
    "if k[n]==b:\n",
    "    print \"Congratulations, you made your goal!\"\n",
    "    print \"Plot is at the bottom.\"\n",
    "else:\n",
    "    print \"Sorry, you were ruined.   Better luck next time!\"\n",
    "    print \"Plot is at the bottom.\"\n",
    "    \n",
    "#Graphs the walk\n",
    "n = range(n+1)\n",
    "plt.plot(n,k)\n",
    "plt.axis(ymin=0,ymax=b)\n",
    "plt.title('Random Walk of a Gambler (for part 1)')\n",
    "plt.ylabel('Money left')\n",
    "plt.xlabel('Number of Bets')\n",
    "#4.2 ###########################################\n",
    "print \"\"\n",
    "print \"2)\"\n",
    "\n",
    "p1 = 0.4 #probability\n",
    "p2 = 0.15\n",
    "p3 = 0.45\n",
    "c = [p1,p2-1,p3]#Creates a vector of the coefficients of the quadratic equation\n",
    "rootC = np.roots(c)\n",
    "print \"Calculated lambda from the equation are: \", rootC #Prints the roots of the polynomial with coefficients given by c\n",
    "\n",
    "lamb1=rootC[0]\n",
    "lamb2=rootC[1]\n",
    "C1 = 1./(1-lamb1**20)\n",
    "C2 = 1-C1\n",
    "print \"Printing out ruin probability for just one trial:\"\n",
    "print 'P{ruin when starting at 15}=',C1*lamb1**15+C2\n",
    "\n",
    "#4.3 ######################################\n",
    "print \"\"\n",
    "print \"3)\"\n",
    "#Steps through the random walk until we either lose our money or meet the goal\n",
    "ruin = 0\n",
    "for i in range(0,10000):\n",
    "    k = [15] #Starting amount of money\n",
    "    b = 20 #Monetary Goal\n",
    "    RVBet = st.rv_discrete(name='RVBet',values =([1,0,-1],[0.4,0.15,0.45]))\n",
    "    n = 0\n",
    "    while (k[n]!=0 and k[n]!=b):\n",
    "        k.append(k[n]+RVBet.rvs()) #Appends our current total plus the results of the bet\n",
    "        n = n+1\n",
    "    \n",
    "    if k[n]!=b:\n",
    "        ruin = ruin + 1\n",
    "print \"Printing out the ruin probability for 10,000 trials:\"\n",
    "print \"The experimental ruin probability is: \", ruin/10000.\n",
    "print \"By comparing the result from part 2) and part 3), we find that the two values are pretty close.\""
   ]
  },
  {
   "cell_type": "markdown",
   "metadata": {},
   "source": [
    "## Lab Questions:"
   ]
  },
  {
   "cell_type": "markdown",
   "metadata": {},
   "source": [
    "For this weeks lab, please answer all questions 1-4."
   ]
  }
 ],
 "metadata": {
  "kernelspec": {
   "display_name": "Python 2",
   "language": "python",
   "name": "python2"
  },
  "language_info": {
   "codemirror_mode": {
    "name": "ipython",
    "version": 2
   },
   "file_extension": ".py",
   "mimetype": "text/x-python",
   "name": "python",
   "nbconvert_exporter": "python",
   "pygments_lexer": "ipython2",
   "version": "2.7.11"
  }
 },
 "nbformat": 4,
 "nbformat_minor": 0
}
